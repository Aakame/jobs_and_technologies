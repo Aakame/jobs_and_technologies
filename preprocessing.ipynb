{
 "cells": [
  {
   "cell_type": "code",
   "execution_count": 1,
   "metadata": {},
   "outputs": [],
   "source": [
    "import pandas as pd \n",
    "import numpy as np\n",
    "import pickle\n",
    "import os\n",
    "from sklearn.preprocessing import MultiLabelBinarizer\n",
    "import matplotlib.pyplot as plt\n",
    "import plotly \n",
    "import plotly.graph_objects as go\n",
    "from plotly.subplots import make_subplots\n",
    "import plotly.express as px\n",
    "import plotly.figure_factory as ff\n"
   ]
  },
  {
   "cell_type": "code",
   "execution_count": 2,
   "metadata": {},
   "outputs": [],
   "source": [
    "pd.options.display.max_rows = 100000\n",
    "pd.set_option('display.max_columns', None)\n",
    "pd.set_option('display.max_colwidth', None)"
   ]
  },
  {
   "cell_type": "code",
   "execution_count": 3,
   "metadata": {},
   "outputs": [],
   "source": [
    "current_dir = os.getcwd()\n",
    "\n",
    "# Specify the relative paths\n",
    "DATA_PATH = os.path.join(current_dir, \"data\", \"preprocessed_data.pkl\")\n",
    "ROLES_PATH = os.path.join(current_dir, \"data\", \"roles_short_names.csv\")\n",
    "FIG_DIR = os.path.join(current_dir, \"reports\")"
   ]
  },
  {
   "cell_type": "code",
   "execution_count": 4,
   "metadata": {},
   "outputs": [],
   "source": [
    "df = pd.read_pickle(DATA_PATH)\n",
    "roles_names = pd.read_csv(ROLES_PATH, sep=';')"
   ]
  },
  {
   "cell_type": "code",
   "execution_count": 5,
   "metadata": {},
   "outputs": [
    {
     "data": {
      "text/html": [
       "<div>\n",
       "<style scoped>\n",
       "    .dataframe tbody tr th:only-of-type {\n",
       "        vertical-align: middle;\n",
       "    }\n",
       "\n",
       "    .dataframe tbody tr th {\n",
       "        vertical-align: top;\n",
       "    }\n",
       "\n",
       "    .dataframe thead th {\n",
       "        text-align: right;\n",
       "    }\n",
       "</style>\n",
       "<table border=\"1\" class=\"dataframe\">\n",
       "  <thead>\n",
       "    <tr style=\"text-align: right;\">\n",
       "      <th></th>\n",
       "      <th>Original name</th>\n",
       "      <th>Short name</th>\n",
       "    </tr>\n",
       "  </thead>\n",
       "  <tbody>\n",
       "    <tr>\n",
       "      <th>0</th>\n",
       "      <td>Developer, back-end</td>\n",
       "      <td>Back-end dev</td>\n",
       "    </tr>\n",
       "    <tr>\n",
       "      <th>1</th>\n",
       "      <td>Developer, full-stack</td>\n",
       "      <td>Full-stack dev</td>\n",
       "    </tr>\n",
       "    <tr>\n",
       "      <th>2</th>\n",
       "      <td>Developer, front-end</td>\n",
       "      <td>Front-end dev</td>\n",
       "    </tr>\n",
       "    <tr>\n",
       "      <th>3</th>\n",
       "      <td>Developer, desktop or enterprise applications</td>\n",
       "      <td>Desktop dev</td>\n",
       "    </tr>\n",
       "    <tr>\n",
       "      <th>4</th>\n",
       "      <td>Developer, mobile</td>\n",
       "      <td>Mobile dev</td>\n",
       "    </tr>\n",
       "    <tr>\n",
       "      <th>5</th>\n",
       "      <td>DevOps specialist</td>\n",
       "      <td>DevOps</td>\n",
       "    </tr>\n",
       "    <tr>\n",
       "      <th>6</th>\n",
       "      <td>Database administrator</td>\n",
       "      <td>Database admin</td>\n",
       "    </tr>\n",
       "    <tr>\n",
       "      <th>7</th>\n",
       "      <td>Designer</td>\n",
       "      <td>Designer</td>\n",
       "    </tr>\n",
       "    <tr>\n",
       "      <th>8</th>\n",
       "      <td>System administrator</td>\n",
       "      <td>System admin</td>\n",
       "    </tr>\n",
       "    <tr>\n",
       "      <th>9</th>\n",
       "      <td>Developer, embedded applications or devices</td>\n",
       "      <td>Embedded dev</td>\n",
       "    </tr>\n",
       "    <tr>\n",
       "      <th>10</th>\n",
       "      <td>Data or business analyst</td>\n",
       "      <td>Analyst</td>\n",
       "    </tr>\n",
       "    <tr>\n",
       "      <th>11</th>\n",
       "      <td>Data scientist or machine learning specialist</td>\n",
       "      <td>Data Scientist</td>\n",
       "    </tr>\n",
       "    <tr>\n",
       "      <th>12</th>\n",
       "      <td>Developer, QA or test</td>\n",
       "      <td>Quality Assurance</td>\n",
       "    </tr>\n",
       "    <tr>\n",
       "      <th>13</th>\n",
       "      <td>Engineer, data</td>\n",
       "      <td>Data Engineer</td>\n",
       "    </tr>\n",
       "    <tr>\n",
       "      <th>14</th>\n",
       "      <td>Academic researcher</td>\n",
       "      <td>Researcher</td>\n",
       "    </tr>\n",
       "    <tr>\n",
       "      <th>15</th>\n",
       "      <td>Educator</td>\n",
       "      <td>Educator</td>\n",
       "    </tr>\n",
       "    <tr>\n",
       "      <th>16</th>\n",
       "      <td>Developer, game or graphics</td>\n",
       "      <td>Game dev</td>\n",
       "    </tr>\n",
       "    <tr>\n",
       "      <th>17</th>\n",
       "      <td>Engineering manager</td>\n",
       "      <td>Engineering manager</td>\n",
       "    </tr>\n",
       "    <tr>\n",
       "      <th>18</th>\n",
       "      <td>Product manager</td>\n",
       "      <td>Product manager</td>\n",
       "    </tr>\n",
       "    <tr>\n",
       "      <th>19</th>\n",
       "      <td>Scientist</td>\n",
       "      <td>Scientist</td>\n",
       "    </tr>\n",
       "    <tr>\n",
       "      <th>20</th>\n",
       "      <td>Engineer, site reliability</td>\n",
       "      <td>Site Engineer</td>\n",
       "    </tr>\n",
       "    <tr>\n",
       "      <th>21</th>\n",
       "      <td>Senior Executive (C-Suite, VP, etc.)</td>\n",
       "      <td>Senior Executive</td>\n",
       "    </tr>\n",
       "    <tr>\n",
       "      <th>22</th>\n",
       "      <td>Marketing or sales professional</td>\n",
       "      <td>Marketing/Sales</td>\n",
       "    </tr>\n",
       "    <tr>\n",
       "      <th>23</th>\n",
       "      <td>Student</td>\n",
       "      <td>Student</td>\n",
       "    </tr>\n",
       "    <tr>\n",
       "      <th>24</th>\n",
       "      <td>Other (please specify):</td>\n",
       "      <td>Other</td>\n",
       "    </tr>\n",
       "  </tbody>\n",
       "</table>\n",
       "</div>"
      ],
      "text/plain": [
       "                                    Original name          Short name \n",
       "0                             Developer, back-end         Back-end dev\n",
       "1                           Developer, full-stack       Full-stack dev\n",
       "2                            Developer, front-end        Front-end dev\n",
       "3   Developer, desktop or enterprise applications          Desktop dev\n",
       "4                               Developer, mobile           Mobile dev\n",
       "5                               DevOps specialist               DevOps\n",
       "6                          Database administrator       Database admin\n",
       "7                                        Designer             Designer\n",
       "8                            System administrator         System admin\n",
       "9     Developer, embedded applications or devices         Embedded dev\n",
       "10                       Data or business analyst              Analyst\n",
       "11  Data scientist or machine learning specialist      Data Scientist \n",
       "12                          Developer, QA or test    Quality Assurance\n",
       "13                                 Engineer, data        Data Engineer\n",
       "14                            Academic researcher           Researcher\n",
       "15                                       Educator             Educator\n",
       "16                    Developer, game or graphics             Game dev\n",
       "17                            Engineering manager  Engineering manager\n",
       "18                                Product manager      Product manager\n",
       "19                                      Scientist            Scientist\n",
       "20                     Engineer, site reliability        Site Engineer\n",
       "21           Senior Executive (C-Suite, VP, etc.)     Senior Executive\n",
       "22                Marketing or sales professional      Marketing/Sales\n",
       "23                                        Student              Student\n",
       "24                        Other (please specify):                Other"
      ]
     },
     "execution_count": 5,
     "metadata": {},
     "output_type": "execute_result"
    }
   ],
   "source": [
    "roles_names"
   ]
  },
  {
   "cell_type": "code",
   "execution_count": 6,
   "metadata": {},
   "outputs": [],
   "source": [
    "ROLE_COLS      = ['DevType']\n",
    "TECH_COLS      = ['LanguageHaveWorkedWith',\n",
    "                  'DatabaseHaveWorkedWith',\n",
    "                  'PlatformHaveWorkedWith',\n",
    "                  'WebframeHaveWorkedWith',\n",
    "                  'MiscTechHaveWorkedWith',\n",
    "                  'ToolsTechHaveWorkedWith',\n",
    "                  'NEWCollabToolsHaveWorkedWith']"
   ]
  },
  {
   "cell_type": "code",
   "execution_count": 7,
   "metadata": {},
   "outputs": [],
   "source": [
    "#takes a list of columns names to binarize, returns a set of binarazed dataframes for each column\n",
    "def binarization(dataframe,columns_list):\n",
    "    encoded_dataframes = {}\n",
    "    for col in columns_list:\n",
    "        binarizer = MultiLabelBinarizer()\n",
    "        encoded_df = pd.DataFrame(binarizer.fit_transform(dataframe[col]),\n",
    "                                columns=binarizer.classes_,\n",
    "                                index=df[col].index)\n",
    "        encoded_dataframes[col] = encoded_df\n",
    "    return encoded_dataframes"
   ]
  },
  {
   "cell_type": "code",
   "execution_count": 8,
   "metadata": {},
   "outputs": [],
   "source": [
    "col_list=ROLE_COLS + TECH_COLS  \n",
    "encoded_dfs=binarization(df,col_list)"
   ]
  },
  {
   "cell_type": "code",
   "execution_count": 9,
   "metadata": {},
   "outputs": [
    {
     "data": {
      "text/html": [
       "<div>\n",
       "<style scoped>\n",
       "    .dataframe tbody tr th:only-of-type {\n",
       "        vertical-align: middle;\n",
       "    }\n",
       "\n",
       "    .dataframe tbody tr th {\n",
       "        vertical-align: top;\n",
       "    }\n",
       "\n",
       "    .dataframe thead tr th {\n",
       "        text-align: left;\n",
       "    }\n",
       "</style>\n",
       "<table border=\"1\" class=\"dataframe\">\n",
       "  <thead>\n",
       "    <tr>\n",
       "      <th></th>\n",
       "      <th colspan=\"25\" halign=\"left\">DevType</th>\n",
       "      <th colspan=\"38\" halign=\"left\">LanguageHaveWorkedWith</th>\n",
       "      <th colspan=\"14\" halign=\"left\">DatabaseHaveWorkedWith</th>\n",
       "      <th colspan=\"7\" halign=\"left\">PlatformHaveWorkedWith</th>\n",
       "      <th colspan=\"18\" halign=\"left\">WebframeHaveWorkedWith</th>\n",
       "      <th colspan=\"13\" halign=\"left\">MiscTechHaveWorkedWith</th>\n",
       "      <th colspan=\"14\" halign=\"left\">ToolsTechHaveWorkedWith</th>\n",
       "      <th colspan=\"21\" halign=\"left\">NEWCollabToolsHaveWorkedWith</th>\n",
       "    </tr>\n",
       "    <tr>\n",
       "      <th></th>\n",
       "      <th>Academic researcher</th>\n",
       "      <th>Data or business analyst</th>\n",
       "      <th>Data scientist or machine learning specialist</th>\n",
       "      <th>Database administrator</th>\n",
       "      <th>Designer</th>\n",
       "      <th>DevOps specialist</th>\n",
       "      <th>Developer, QA or test</th>\n",
       "      <th>Developer, back-end</th>\n",
       "      <th>Developer, desktop or enterprise applications</th>\n",
       "      <th>Developer, embedded applications or devices</th>\n",
       "      <th>Developer, front-end</th>\n",
       "      <th>Developer, full-stack</th>\n",
       "      <th>Developer, game or graphics</th>\n",
       "      <th>Developer, mobile</th>\n",
       "      <th>Educator</th>\n",
       "      <th>Engineer, data</th>\n",
       "      <th>Engineer, site reliability</th>\n",
       "      <th>Engineering manager</th>\n",
       "      <th>Marketing or sales professional</th>\n",
       "      <th>Other (please specify):</th>\n",
       "      <th>Product manager</th>\n",
       "      <th>Scientist</th>\n",
       "      <th>Senior Executive (C-Suite, VP, etc.)</th>\n",
       "      <th>Student</th>\n",
       "      <th>System administrator</th>\n",
       "      <th>APL</th>\n",
       "      <th>Assembly</th>\n",
       "      <th>Bash/Shell</th>\n",
       "      <th>C</th>\n",
       "      <th>C#</th>\n",
       "      <th>C++</th>\n",
       "      <th>COBOL</th>\n",
       "      <th>Clojure</th>\n",
       "      <th>Crystal</th>\n",
       "      <th>Dart</th>\n",
       "      <th>Delphi</th>\n",
       "      <th>Elixir</th>\n",
       "      <th>Erlang</th>\n",
       "      <th>F#</th>\n",
       "      <th>Go</th>\n",
       "      <th>Groovy</th>\n",
       "      <th>HTML/CSS</th>\n",
       "      <th>Haskell</th>\n",
       "      <th>Java</th>\n",
       "      <th>JavaScript</th>\n",
       "      <th>Julia</th>\n",
       "      <th>Kotlin</th>\n",
       "      <th>LISP</th>\n",
       "      <th>Matlab</th>\n",
       "      <th>Node.js</th>\n",
       "      <th>Objective-C</th>\n",
       "      <th>PHP</th>\n",
       "      <th>Perl</th>\n",
       "      <th>PowerShell</th>\n",
       "      <th>Python</th>\n",
       "      <th>R</th>\n",
       "      <th>Ruby</th>\n",
       "      <th>Rust</th>\n",
       "      <th>SQL</th>\n",
       "      <th>Scala</th>\n",
       "      <th>Swift</th>\n",
       "      <th>TypeScript</th>\n",
       "      <th>VBA</th>\n",
       "      <th>Cassandra</th>\n",
       "      <th>Couchbase</th>\n",
       "      <th>DynamoDB</th>\n",
       "      <th>Elasticsearch</th>\n",
       "      <th>Firebase</th>\n",
       "      <th>IBM DB2</th>\n",
       "      <th>MariaDB</th>\n",
       "      <th>Microsoft SQL Server</th>\n",
       "      <th>MongoDB</th>\n",
       "      <th>MySQL</th>\n",
       "      <th>Oracle</th>\n",
       "      <th>PostgreSQL</th>\n",
       "      <th>Redis</th>\n",
       "      <th>SQLite</th>\n",
       "      <th>AWS</th>\n",
       "      <th>DigitalOcean</th>\n",
       "      <th>Google Cloud Platform</th>\n",
       "      <th>Heroku</th>\n",
       "      <th>IBM Cloud or Watson</th>\n",
       "      <th>Microsoft Azure</th>\n",
       "      <th>Oracle Cloud Infrastructure</th>\n",
       "      <th>ASP.NET</th>\n",
       "      <th>ASP.NET Core</th>\n",
       "      <th>Angular</th>\n",
       "      <th>Angular.js</th>\n",
       "      <th>Django</th>\n",
       "      <th>Drupal</th>\n",
       "      <th>Express</th>\n",
       "      <th>FastAPI</th>\n",
       "      <th>Flask</th>\n",
       "      <th>Gatsby</th>\n",
       "      <th>Laravel</th>\n",
       "      <th>React.js</th>\n",
       "      <th>Ruby on Rails</th>\n",
       "      <th>Spring</th>\n",
       "      <th>Svelte</th>\n",
       "      <th>Symfony</th>\n",
       "      <th>Vue.js</th>\n",
       "      <th>jQuery</th>\n",
       "      <th>.NET Core / .NET 5</th>\n",
       "      <th>.NET Framework</th>\n",
       "      <th>Apache Spark</th>\n",
       "      <th>Cordova</th>\n",
       "      <th>Flutter</th>\n",
       "      <th>Hadoop</th>\n",
       "      <th>Keras</th>\n",
       "      <th>NumPy</th>\n",
       "      <th>Pandas</th>\n",
       "      <th>Qt</th>\n",
       "      <th>React Native</th>\n",
       "      <th>TensorFlow</th>\n",
       "      <th>Torch/PyTorch</th>\n",
       "      <th>Ansible</th>\n",
       "      <th>Chef</th>\n",
       "      <th>Deno</th>\n",
       "      <th>Docker</th>\n",
       "      <th>Flow</th>\n",
       "      <th>Git</th>\n",
       "      <th>Kubernetes</th>\n",
       "      <th>Pulumi</th>\n",
       "      <th>Puppet</th>\n",
       "      <th>Terraform</th>\n",
       "      <th>Unity 3D</th>\n",
       "      <th>Unreal Engine</th>\n",
       "      <th>Xamarin</th>\n",
       "      <th>Yarn</th>\n",
       "      <th>Android Studio</th>\n",
       "      <th>Atom</th>\n",
       "      <th>Eclipse</th>\n",
       "      <th>Emacs</th>\n",
       "      <th>IPython/Jupyter</th>\n",
       "      <th>IntelliJ</th>\n",
       "      <th>Neovim</th>\n",
       "      <th>NetBeans</th>\n",
       "      <th>Notepad++</th>\n",
       "      <th>PHPStorm</th>\n",
       "      <th>PyCharm</th>\n",
       "      <th>RStudio</th>\n",
       "      <th>Rider</th>\n",
       "      <th>RubyMine</th>\n",
       "      <th>Sublime Text</th>\n",
       "      <th>TextMate</th>\n",
       "      <th>Vim</th>\n",
       "      <th>Visual Studio</th>\n",
       "      <th>Visual Studio Code</th>\n",
       "      <th>Webstorm</th>\n",
       "      <th>Xcode</th>\n",
       "    </tr>\n",
       "  </thead>\n",
       "  <tbody>\n",
       "    <tr>\n",
       "      <th>0</th>\n",
       "      <td>0</td>\n",
       "      <td>0</td>\n",
       "      <td>0</td>\n",
       "      <td>0</td>\n",
       "      <td>0</td>\n",
       "      <td>0</td>\n",
       "      <td>0</td>\n",
       "      <td>0</td>\n",
       "      <td>0</td>\n",
       "      <td>0</td>\n",
       "      <td>0</td>\n",
       "      <td>0</td>\n",
       "      <td>0</td>\n",
       "      <td>1</td>\n",
       "      <td>0</td>\n",
       "      <td>0</td>\n",
       "      <td>0</td>\n",
       "      <td>0</td>\n",
       "      <td>0</td>\n",
       "      <td>0</td>\n",
       "      <td>0</td>\n",
       "      <td>0</td>\n",
       "      <td>0</td>\n",
       "      <td>0</td>\n",
       "      <td>0</td>\n",
       "      <td>0</td>\n",
       "      <td>0</td>\n",
       "      <td>0</td>\n",
       "      <td>0</td>\n",
       "      <td>0</td>\n",
       "      <td>1</td>\n",
       "      <td>0</td>\n",
       "      <td>0</td>\n",
       "      <td>0</td>\n",
       "      <td>0</td>\n",
       "      <td>0</td>\n",
       "      <td>0</td>\n",
       "      <td>0</td>\n",
       "      <td>0</td>\n",
       "      <td>0</td>\n",
       "      <td>0</td>\n",
       "      <td>1</td>\n",
       "      <td>0</td>\n",
       "      <td>0</td>\n",
       "      <td>1</td>\n",
       "      <td>0</td>\n",
       "      <td>0</td>\n",
       "      <td>0</td>\n",
       "      <td>0</td>\n",
       "      <td>0</td>\n",
       "      <td>1</td>\n",
       "      <td>1</td>\n",
       "      <td>0</td>\n",
       "      <td>0</td>\n",
       "      <td>0</td>\n",
       "      <td>0</td>\n",
       "      <td>0</td>\n",
       "      <td>0</td>\n",
       "      <td>0</td>\n",
       "      <td>0</td>\n",
       "      <td>1</td>\n",
       "      <td>0</td>\n",
       "      <td>0</td>\n",
       "      <td>0</td>\n",
       "      <td>0</td>\n",
       "      <td>0</td>\n",
       "      <td>0</td>\n",
       "      <td>0</td>\n",
       "      <td>0</td>\n",
       "      <td>0</td>\n",
       "      <td>0</td>\n",
       "      <td>0</td>\n",
       "      <td>0</td>\n",
       "      <td>0</td>\n",
       "      <td>1</td>\n",
       "      <td>0</td>\n",
       "      <td>1</td>\n",
       "      <td>0</td>\n",
       "      <td>0</td>\n",
       "      <td>0</td>\n",
       "      <td>0</td>\n",
       "      <td>0</td>\n",
       "      <td>0</td>\n",
       "      <td>0</td>\n",
       "      <td>0</td>\n",
       "      <td>0</td>\n",
       "      <td>0</td>\n",
       "      <td>0</td>\n",
       "      <td>0</td>\n",
       "      <td>0</td>\n",
       "      <td>0</td>\n",
       "      <td>0</td>\n",
       "      <td>0</td>\n",
       "      <td>0</td>\n",
       "      <td>1</td>\n",
       "      <td>0</td>\n",
       "      <td>0</td>\n",
       "      <td>0</td>\n",
       "      <td>0</td>\n",
       "      <td>1</td>\n",
       "      <td>0</td>\n",
       "      <td>0</td>\n",
       "      <td>0</td>\n",
       "      <td>0</td>\n",
       "      <td>0</td>\n",
       "      <td>0</td>\n",
       "      <td>0</td>\n",
       "      <td>0</td>\n",
       "      <td>0</td>\n",
       "      <td>0</td>\n",
       "      <td>0</td>\n",
       "      <td>0</td>\n",
       "      <td>0</td>\n",
       "      <td>0</td>\n",
       "      <td>0</td>\n",
       "      <td>0</td>\n",
       "      <td>0</td>\n",
       "      <td>0</td>\n",
       "      <td>0</td>\n",
       "      <td>0</td>\n",
       "      <td>0</td>\n",
       "      <td>0</td>\n",
       "      <td>0</td>\n",
       "      <td>0</td>\n",
       "      <td>0</td>\n",
       "      <td>0</td>\n",
       "      <td>0</td>\n",
       "      <td>0</td>\n",
       "      <td>0</td>\n",
       "      <td>0</td>\n",
       "      <td>0</td>\n",
       "      <td>0</td>\n",
       "      <td>0</td>\n",
       "      <td>0</td>\n",
       "      <td>0</td>\n",
       "      <td>0</td>\n",
       "      <td>0</td>\n",
       "      <td>0</td>\n",
       "      <td>1</td>\n",
       "      <td>0</td>\n",
       "      <td>0</td>\n",
       "      <td>0</td>\n",
       "      <td>0</td>\n",
       "      <td>0</td>\n",
       "      <td>0</td>\n",
       "      <td>0</td>\n",
       "      <td>0</td>\n",
       "      <td>0</td>\n",
       "      <td>0</td>\n",
       "      <td>1</td>\n",
       "    </tr>\n",
       "    <tr>\n",
       "      <th>1</th>\n",
       "      <td>0</td>\n",
       "      <td>0</td>\n",
       "      <td>0</td>\n",
       "      <td>0</td>\n",
       "      <td>0</td>\n",
       "      <td>0</td>\n",
       "      <td>0</td>\n",
       "      <td>0</td>\n",
       "      <td>0</td>\n",
       "      <td>0</td>\n",
       "      <td>0</td>\n",
       "      <td>0</td>\n",
       "      <td>0</td>\n",
       "      <td>0</td>\n",
       "      <td>0</td>\n",
       "      <td>0</td>\n",
       "      <td>0</td>\n",
       "      <td>0</td>\n",
       "      <td>0</td>\n",
       "      <td>0</td>\n",
       "      <td>0</td>\n",
       "      <td>0</td>\n",
       "      <td>0</td>\n",
       "      <td>0</td>\n",
       "      <td>0</td>\n",
       "      <td>0</td>\n",
       "      <td>0</td>\n",
       "      <td>0</td>\n",
       "      <td>0</td>\n",
       "      <td>0</td>\n",
       "      <td>0</td>\n",
       "      <td>0</td>\n",
       "      <td>0</td>\n",
       "      <td>0</td>\n",
       "      <td>0</td>\n",
       "      <td>0</td>\n",
       "      <td>0</td>\n",
       "      <td>0</td>\n",
       "      <td>0</td>\n",
       "      <td>0</td>\n",
       "      <td>0</td>\n",
       "      <td>0</td>\n",
       "      <td>0</td>\n",
       "      <td>0</td>\n",
       "      <td>1</td>\n",
       "      <td>0</td>\n",
       "      <td>0</td>\n",
       "      <td>0</td>\n",
       "      <td>0</td>\n",
       "      <td>0</td>\n",
       "      <td>0</td>\n",
       "      <td>0</td>\n",
       "      <td>0</td>\n",
       "      <td>0</td>\n",
       "      <td>1</td>\n",
       "      <td>0</td>\n",
       "      <td>0</td>\n",
       "      <td>0</td>\n",
       "      <td>0</td>\n",
       "      <td>0</td>\n",
       "      <td>0</td>\n",
       "      <td>0</td>\n",
       "      <td>0</td>\n",
       "      <td>0</td>\n",
       "      <td>0</td>\n",
       "      <td>0</td>\n",
       "      <td>0</td>\n",
       "      <td>0</td>\n",
       "      <td>0</td>\n",
       "      <td>0</td>\n",
       "      <td>0</td>\n",
       "      <td>0</td>\n",
       "      <td>0</td>\n",
       "      <td>0</td>\n",
       "      <td>1</td>\n",
       "      <td>0</td>\n",
       "      <td>0</td>\n",
       "      <td>0</td>\n",
       "      <td>0</td>\n",
       "      <td>0</td>\n",
       "      <td>0</td>\n",
       "      <td>0</td>\n",
       "      <td>0</td>\n",
       "      <td>0</td>\n",
       "      <td>0</td>\n",
       "      <td>0</td>\n",
       "      <td>1</td>\n",
       "      <td>0</td>\n",
       "      <td>0</td>\n",
       "      <td>0</td>\n",
       "      <td>0</td>\n",
       "      <td>0</td>\n",
       "      <td>1</td>\n",
       "      <td>0</td>\n",
       "      <td>0</td>\n",
       "      <td>0</td>\n",
       "      <td>0</td>\n",
       "      <td>0</td>\n",
       "      <td>0</td>\n",
       "      <td>0</td>\n",
       "      <td>1</td>\n",
       "      <td>0</td>\n",
       "      <td>0</td>\n",
       "      <td>0</td>\n",
       "      <td>0</td>\n",
       "      <td>1</td>\n",
       "      <td>0</td>\n",
       "      <td>0</td>\n",
       "      <td>0</td>\n",
       "      <td>0</td>\n",
       "      <td>0</td>\n",
       "      <td>0</td>\n",
       "      <td>0</td>\n",
       "      <td>0</td>\n",
       "      <td>0</td>\n",
       "      <td>0</td>\n",
       "      <td>0</td>\n",
       "      <td>0</td>\n",
       "      <td>1</td>\n",
       "      <td>0</td>\n",
       "      <td>1</td>\n",
       "      <td>0</td>\n",
       "      <td>0</td>\n",
       "      <td>0</td>\n",
       "      <td>0</td>\n",
       "      <td>0</td>\n",
       "      <td>0</td>\n",
       "      <td>0</td>\n",
       "      <td>1</td>\n",
       "      <td>1</td>\n",
       "      <td>0</td>\n",
       "      <td>0</td>\n",
       "      <td>0</td>\n",
       "      <td>0</td>\n",
       "      <td>1</td>\n",
       "      <td>0</td>\n",
       "      <td>0</td>\n",
       "      <td>1</td>\n",
       "      <td>0</td>\n",
       "      <td>1</td>\n",
       "      <td>0</td>\n",
       "      <td>0</td>\n",
       "      <td>0</td>\n",
       "      <td>0</td>\n",
       "      <td>0</td>\n",
       "      <td>0</td>\n",
       "      <td>0</td>\n",
       "      <td>0</td>\n",
       "      <td>0</td>\n",
       "      <td>0</td>\n",
       "    </tr>\n",
       "    <tr>\n",
       "      <th>2</th>\n",
       "      <td>0</td>\n",
       "      <td>0</td>\n",
       "      <td>0</td>\n",
       "      <td>0</td>\n",
       "      <td>0</td>\n",
       "      <td>0</td>\n",
       "      <td>0</td>\n",
       "      <td>0</td>\n",
       "      <td>0</td>\n",
       "      <td>0</td>\n",
       "      <td>0</td>\n",
       "      <td>0</td>\n",
       "      <td>0</td>\n",
       "      <td>0</td>\n",
       "      <td>0</td>\n",
       "      <td>0</td>\n",
       "      <td>0</td>\n",
       "      <td>0</td>\n",
       "      <td>0</td>\n",
       "      <td>0</td>\n",
       "      <td>0</td>\n",
       "      <td>0</td>\n",
       "      <td>0</td>\n",
       "      <td>0</td>\n",
       "      <td>0</td>\n",
       "      <td>0</td>\n",
       "      <td>1</td>\n",
       "      <td>0</td>\n",
       "      <td>1</td>\n",
       "      <td>0</td>\n",
       "      <td>0</td>\n",
       "      <td>0</td>\n",
       "      <td>0</td>\n",
       "      <td>0</td>\n",
       "      <td>0</td>\n",
       "      <td>0</td>\n",
       "      <td>0</td>\n",
       "      <td>0</td>\n",
       "      <td>0</td>\n",
       "      <td>0</td>\n",
       "      <td>0</td>\n",
       "      <td>0</td>\n",
       "      <td>0</td>\n",
       "      <td>0</td>\n",
       "      <td>0</td>\n",
       "      <td>0</td>\n",
       "      <td>0</td>\n",
       "      <td>0</td>\n",
       "      <td>0</td>\n",
       "      <td>0</td>\n",
       "      <td>0</td>\n",
       "      <td>0</td>\n",
       "      <td>0</td>\n",
       "      <td>0</td>\n",
       "      <td>1</td>\n",
       "      <td>1</td>\n",
       "      <td>0</td>\n",
       "      <td>1</td>\n",
       "      <td>0</td>\n",
       "      <td>0</td>\n",
       "      <td>0</td>\n",
       "      <td>0</td>\n",
       "      <td>0</td>\n",
       "      <td>0</td>\n",
       "      <td>0</td>\n",
       "      <td>0</td>\n",
       "      <td>0</td>\n",
       "      <td>0</td>\n",
       "      <td>0</td>\n",
       "      <td>0</td>\n",
       "      <td>0</td>\n",
       "      <td>0</td>\n",
       "      <td>0</td>\n",
       "      <td>0</td>\n",
       "      <td>0</td>\n",
       "      <td>0</td>\n",
       "      <td>1</td>\n",
       "      <td>0</td>\n",
       "      <td>0</td>\n",
       "      <td>0</td>\n",
       "      <td>1</td>\n",
       "      <td>0</td>\n",
       "      <td>0</td>\n",
       "      <td>0</td>\n",
       "      <td>0</td>\n",
       "      <td>0</td>\n",
       "      <td>0</td>\n",
       "      <td>0</td>\n",
       "      <td>0</td>\n",
       "      <td>0</td>\n",
       "      <td>0</td>\n",
       "      <td>0</td>\n",
       "      <td>1</td>\n",
       "      <td>0</td>\n",
       "      <td>0</td>\n",
       "      <td>0</td>\n",
       "      <td>0</td>\n",
       "      <td>0</td>\n",
       "      <td>0</td>\n",
       "      <td>0</td>\n",
       "      <td>0</td>\n",
       "      <td>0</td>\n",
       "      <td>0</td>\n",
       "      <td>0</td>\n",
       "      <td>0</td>\n",
       "      <td>0</td>\n",
       "      <td>0</td>\n",
       "      <td>0</td>\n",
       "      <td>0</td>\n",
       "      <td>1</td>\n",
       "      <td>1</td>\n",
       "      <td>0</td>\n",
       "      <td>0</td>\n",
       "      <td>1</td>\n",
       "      <td>1</td>\n",
       "      <td>0</td>\n",
       "      <td>0</td>\n",
       "      <td>0</td>\n",
       "      <td>0</td>\n",
       "      <td>0</td>\n",
       "      <td>0</td>\n",
       "      <td>0</td>\n",
       "      <td>0</td>\n",
       "      <td>0</td>\n",
       "      <td>0</td>\n",
       "      <td>0</td>\n",
       "      <td>0</td>\n",
       "      <td>0</td>\n",
       "      <td>0</td>\n",
       "      <td>0</td>\n",
       "      <td>0</td>\n",
       "      <td>0</td>\n",
       "      <td>0</td>\n",
       "      <td>1</td>\n",
       "      <td>0</td>\n",
       "      <td>0</td>\n",
       "      <td>0</td>\n",
       "      <td>0</td>\n",
       "      <td>0</td>\n",
       "      <td>1</td>\n",
       "      <td>1</td>\n",
       "      <td>0</td>\n",
       "      <td>0</td>\n",
       "      <td>1</td>\n",
       "      <td>0</td>\n",
       "      <td>0</td>\n",
       "      <td>0</td>\n",
       "      <td>1</td>\n",
       "      <td>0</td>\n",
       "      <td>0</td>\n",
       "    </tr>\n",
       "    <tr>\n",
       "      <th>3</th>\n",
       "      <td>0</td>\n",
       "      <td>0</td>\n",
       "      <td>0</td>\n",
       "      <td>0</td>\n",
       "      <td>0</td>\n",
       "      <td>0</td>\n",
       "      <td>0</td>\n",
       "      <td>0</td>\n",
       "      <td>0</td>\n",
       "      <td>0</td>\n",
       "      <td>1</td>\n",
       "      <td>0</td>\n",
       "      <td>0</td>\n",
       "      <td>0</td>\n",
       "      <td>0</td>\n",
       "      <td>0</td>\n",
       "      <td>0</td>\n",
       "      <td>0</td>\n",
       "      <td>0</td>\n",
       "      <td>0</td>\n",
       "      <td>0</td>\n",
       "      <td>0</td>\n",
       "      <td>0</td>\n",
       "      <td>0</td>\n",
       "      <td>0</td>\n",
       "      <td>0</td>\n",
       "      <td>0</td>\n",
       "      <td>0</td>\n",
       "      <td>0</td>\n",
       "      <td>0</td>\n",
       "      <td>0</td>\n",
       "      <td>0</td>\n",
       "      <td>0</td>\n",
       "      <td>0</td>\n",
       "      <td>0</td>\n",
       "      <td>0</td>\n",
       "      <td>0</td>\n",
       "      <td>0</td>\n",
       "      <td>0</td>\n",
       "      <td>0</td>\n",
       "      <td>0</td>\n",
       "      <td>0</td>\n",
       "      <td>0</td>\n",
       "      <td>0</td>\n",
       "      <td>1</td>\n",
       "      <td>0</td>\n",
       "      <td>0</td>\n",
       "      <td>0</td>\n",
       "      <td>0</td>\n",
       "      <td>0</td>\n",
       "      <td>0</td>\n",
       "      <td>0</td>\n",
       "      <td>0</td>\n",
       "      <td>0</td>\n",
       "      <td>0</td>\n",
       "      <td>0</td>\n",
       "      <td>0</td>\n",
       "      <td>0</td>\n",
       "      <td>0</td>\n",
       "      <td>0</td>\n",
       "      <td>0</td>\n",
       "      <td>1</td>\n",
       "      <td>0</td>\n",
       "      <td>0</td>\n",
       "      <td>0</td>\n",
       "      <td>0</td>\n",
       "      <td>0</td>\n",
       "      <td>0</td>\n",
       "      <td>0</td>\n",
       "      <td>0</td>\n",
       "      <td>0</td>\n",
       "      <td>0</td>\n",
       "      <td>0</td>\n",
       "      <td>0</td>\n",
       "      <td>0</td>\n",
       "      <td>0</td>\n",
       "      <td>0</td>\n",
       "      <td>0</td>\n",
       "      <td>0</td>\n",
       "      <td>0</td>\n",
       "      <td>0</td>\n",
       "      <td>0</td>\n",
       "      <td>0</td>\n",
       "      <td>0</td>\n",
       "      <td>0</td>\n",
       "      <td>0</td>\n",
       "      <td>1</td>\n",
       "      <td>0</td>\n",
       "      <td>0</td>\n",
       "      <td>0</td>\n",
       "      <td>0</td>\n",
       "      <td>0</td>\n",
       "      <td>0</td>\n",
       "      <td>0</td>\n",
       "      <td>0</td>\n",
       "      <td>0</td>\n",
       "      <td>0</td>\n",
       "      <td>0</td>\n",
       "      <td>0</td>\n",
       "      <td>0</td>\n",
       "      <td>0</td>\n",
       "      <td>1</td>\n",
       "      <td>0</td>\n",
       "      <td>0</td>\n",
       "      <td>0</td>\n",
       "      <td>0</td>\n",
       "      <td>0</td>\n",
       "      <td>0</td>\n",
       "      <td>0</td>\n",
       "      <td>0</td>\n",
       "      <td>0</td>\n",
       "      <td>0</td>\n",
       "      <td>0</td>\n",
       "      <td>0</td>\n",
       "      <td>0</td>\n",
       "      <td>0</td>\n",
       "      <td>0</td>\n",
       "      <td>0</td>\n",
       "      <td>0</td>\n",
       "      <td>0</td>\n",
       "      <td>0</td>\n",
       "      <td>0</td>\n",
       "      <td>0</td>\n",
       "      <td>0</td>\n",
       "      <td>0</td>\n",
       "      <td>0</td>\n",
       "      <td>0</td>\n",
       "      <td>0</td>\n",
       "      <td>0</td>\n",
       "      <td>0</td>\n",
       "      <td>0</td>\n",
       "      <td>0</td>\n",
       "      <td>0</td>\n",
       "      <td>0</td>\n",
       "      <td>0</td>\n",
       "      <td>0</td>\n",
       "      <td>0</td>\n",
       "      <td>0</td>\n",
       "      <td>0</td>\n",
       "      <td>0</td>\n",
       "      <td>0</td>\n",
       "      <td>0</td>\n",
       "      <td>0</td>\n",
       "      <td>0</td>\n",
       "      <td>0</td>\n",
       "      <td>0</td>\n",
       "      <td>0</td>\n",
       "      <td>0</td>\n",
       "      <td>0</td>\n",
       "      <td>0</td>\n",
       "    </tr>\n",
       "    <tr>\n",
       "      <th>4</th>\n",
       "      <td>0</td>\n",
       "      <td>0</td>\n",
       "      <td>0</td>\n",
       "      <td>0</td>\n",
       "      <td>0</td>\n",
       "      <td>0</td>\n",
       "      <td>0</td>\n",
       "      <td>0</td>\n",
       "      <td>1</td>\n",
       "      <td>0</td>\n",
       "      <td>0</td>\n",
       "      <td>1</td>\n",
       "      <td>0</td>\n",
       "      <td>0</td>\n",
       "      <td>0</td>\n",
       "      <td>1</td>\n",
       "      <td>0</td>\n",
       "      <td>0</td>\n",
       "      <td>0</td>\n",
       "      <td>1</td>\n",
       "      <td>0</td>\n",
       "      <td>0</td>\n",
       "      <td>0</td>\n",
       "      <td>0</td>\n",
       "      <td>0</td>\n",
       "      <td>0</td>\n",
       "      <td>0</td>\n",
       "      <td>1</td>\n",
       "      <td>0</td>\n",
       "      <td>0</td>\n",
       "      <td>0</td>\n",
       "      <td>0</td>\n",
       "      <td>0</td>\n",
       "      <td>0</td>\n",
       "      <td>0</td>\n",
       "      <td>0</td>\n",
       "      <td>0</td>\n",
       "      <td>0</td>\n",
       "      <td>0</td>\n",
       "      <td>0</td>\n",
       "      <td>0</td>\n",
       "      <td>1</td>\n",
       "      <td>0</td>\n",
       "      <td>0</td>\n",
       "      <td>0</td>\n",
       "      <td>0</td>\n",
       "      <td>0</td>\n",
       "      <td>0</td>\n",
       "      <td>0</td>\n",
       "      <td>0</td>\n",
       "      <td>0</td>\n",
       "      <td>0</td>\n",
       "      <td>0</td>\n",
       "      <td>0</td>\n",
       "      <td>1</td>\n",
       "      <td>0</td>\n",
       "      <td>0</td>\n",
       "      <td>0</td>\n",
       "      <td>1</td>\n",
       "      <td>0</td>\n",
       "      <td>0</td>\n",
       "      <td>0</td>\n",
       "      <td>0</td>\n",
       "      <td>0</td>\n",
       "      <td>0</td>\n",
       "      <td>0</td>\n",
       "      <td>1</td>\n",
       "      <td>0</td>\n",
       "      <td>0</td>\n",
       "      <td>0</td>\n",
       "      <td>0</td>\n",
       "      <td>0</td>\n",
       "      <td>0</td>\n",
       "      <td>0</td>\n",
       "      <td>1</td>\n",
       "      <td>1</td>\n",
       "      <td>0</td>\n",
       "      <td>0</td>\n",
       "      <td>0</td>\n",
       "      <td>0</td>\n",
       "      <td>0</td>\n",
       "      <td>0</td>\n",
       "      <td>0</td>\n",
       "      <td>0</td>\n",
       "      <td>0</td>\n",
       "      <td>0</td>\n",
       "      <td>0</td>\n",
       "      <td>0</td>\n",
       "      <td>0</td>\n",
       "      <td>0</td>\n",
       "      <td>0</td>\n",
       "      <td>0</td>\n",
       "      <td>1</td>\n",
       "      <td>0</td>\n",
       "      <td>0</td>\n",
       "      <td>0</td>\n",
       "      <td>0</td>\n",
       "      <td>0</td>\n",
       "      <td>0</td>\n",
       "      <td>0</td>\n",
       "      <td>0</td>\n",
       "      <td>0</td>\n",
       "      <td>0</td>\n",
       "      <td>0</td>\n",
       "      <td>1</td>\n",
       "      <td>0</td>\n",
       "      <td>0</td>\n",
       "      <td>1</td>\n",
       "      <td>0</td>\n",
       "      <td>1</td>\n",
       "      <td>1</td>\n",
       "      <td>0</td>\n",
       "      <td>0</td>\n",
       "      <td>0</td>\n",
       "      <td>0</td>\n",
       "      <td>0</td>\n",
       "      <td>0</td>\n",
       "      <td>0</td>\n",
       "      <td>1</td>\n",
       "      <td>0</td>\n",
       "      <td>1</td>\n",
       "      <td>1</td>\n",
       "      <td>0</td>\n",
       "      <td>0</td>\n",
       "      <td>0</td>\n",
       "      <td>0</td>\n",
       "      <td>0</td>\n",
       "      <td>0</td>\n",
       "      <td>1</td>\n",
       "      <td>0</td>\n",
       "      <td>1</td>\n",
       "      <td>0</td>\n",
       "      <td>0</td>\n",
       "      <td>1</td>\n",
       "      <td>0</td>\n",
       "      <td>0</td>\n",
       "      <td>0</td>\n",
       "      <td>1</td>\n",
       "      <td>0</td>\n",
       "      <td>1</td>\n",
       "      <td>0</td>\n",
       "      <td>0</td>\n",
       "      <td>0</td>\n",
       "      <td>0</td>\n",
       "      <td>0</td>\n",
       "      <td>1</td>\n",
       "      <td>0</td>\n",
       "      <td>0</td>\n",
       "      <td>0</td>\n",
       "      <td>0</td>\n",
       "    </tr>\n",
       "  </tbody>\n",
       "</table>\n",
       "</div>"
      ],
      "text/plain": [
       "              DevType                           \\\n",
       "  Academic researcher Data or business analyst   \n",
       "0                   0                        0   \n",
       "1                   0                        0   \n",
       "2                   0                        0   \n",
       "3                   0                        0   \n",
       "4                   0                        0   \n",
       "\n",
       "                                                                        \\\n",
       "  Data scientist or machine learning specialist Database administrator   \n",
       "0                                             0                      0   \n",
       "1                                             0                      0   \n",
       "2                                             0                      0   \n",
       "3                                             0                      0   \n",
       "4                                             0                      0   \n",
       "\n",
       "                                                                        \\\n",
       "  Designer DevOps specialist Developer, QA or test Developer, back-end   \n",
       "0        0                 0                     0                   0   \n",
       "1        0                 0                     0                   0   \n",
       "2        0                 0                     0                   0   \n",
       "3        0                 0                     0                   0   \n",
       "4        0                 0                     0                   0   \n",
       "\n",
       "                                                 \\\n",
       "  Developer, desktop or enterprise applications   \n",
       "0                                             0   \n",
       "1                                             0   \n",
       "2                                             0   \n",
       "3                                             0   \n",
       "4                                             1   \n",
       "\n",
       "                                                                    \\\n",
       "  Developer, embedded applications or devices Developer, front-end   \n",
       "0                                           0                    0   \n",
       "1                                           0                    0   \n",
       "2                                           0                    0   \n",
       "3                                           0                    1   \n",
       "4                                           0                    0   \n",
       "\n",
       "                                                                       \\\n",
       "  Developer, full-stack Developer, game or graphics Developer, mobile   \n",
       "0                     0                           0                 1   \n",
       "1                     0                           0                 0   \n",
       "2                     0                           0                 0   \n",
       "3                     0                           0                 0   \n",
       "4                     1                           0                 0   \n",
       "\n",
       "                                                                          \\\n",
       "  Educator Engineer, data Engineer, site reliability Engineering manager   \n",
       "0        0              0                          0                   0   \n",
       "1        0              0                          0                   0   \n",
       "2        0              0                          0                   0   \n",
       "3        0              0                          0                   0   \n",
       "4        0              1                          0                   0   \n",
       "\n",
       "                                                                           \\\n",
       "  Marketing or sales professional Other (please specify): Product manager   \n",
       "0                               0                       0               0   \n",
       "1                               0                       0               0   \n",
       "2                               0                       0               0   \n",
       "3                               0                       0               0   \n",
       "4                               0                       1               0   \n",
       "\n",
       "                                                                               \\\n",
       "  Scientist Senior Executive (C-Suite, VP, etc.) Student System administrator   \n",
       "0         0                                    0       0                    0   \n",
       "1         0                                    0       0                    0   \n",
       "2         0                                    0       0                    0   \n",
       "3         0                                    0       0                    0   \n",
       "4         0                                    0       0                    0   \n",
       "\n",
       "  LanguageHaveWorkedWith                                                      \\\n",
       "                     APL Assembly Bash/Shell  C C# C++ COBOL Clojure Crystal   \n",
       "0                      0        0          0  0  0   1     0       0       0   \n",
       "1                      0        0          0  0  0   0     0       0       0   \n",
       "2                      0        1          0  1  0   0     0       0       0   \n",
       "3                      0        0          0  0  0   0     0       0       0   \n",
       "4                      0        0          1  0  0   0     0       0       0   \n",
       "\n",
       "                                                                           \\\n",
       "  Dart Delphi Elixir Erlang F# Go Groovy HTML/CSS Haskell Java JavaScript   \n",
       "0    0      0      0      0  0  0      0        1       0    0          1   \n",
       "1    0      0      0      0  0  0      0        0       0    0          1   \n",
       "2    0      0      0      0  0  0      0        0       0    0          0   \n",
       "3    0      0      0      0  0  0      0        0       0    0          1   \n",
       "4    0      0      0      0  0  0      0        1       0    0          0   \n",
       "\n",
       "                                                                              \\\n",
       "  Julia Kotlin LISP Matlab Node.js Objective-C PHP Perl PowerShell Python  R   \n",
       "0     0      0    0      0       0           1   1    0          0      0  0   \n",
       "1     0      0    0      0       0           0   0    0          0      1  0   \n",
       "2     0      0    0      0       0           0   0    0          0      1  1   \n",
       "3     0      0    0      0       0           0   0    0          0      0  0   \n",
       "4     0      0    0      0       0           0   0    0          0      1  0   \n",
       "\n",
       "                                           DatabaseHaveWorkedWith            \\\n",
       "  Ruby Rust SQL Scala Swift TypeScript VBA              Cassandra Couchbase   \n",
       "0    0    0   0     0     1          0   0                      0         0   \n",
       "1    0    0   0     0     0          0   0                      0         0   \n",
       "2    0    1   0     0     0          0   0                      0         0   \n",
       "3    0    0   0     0     0          1   0                      0         0   \n",
       "4    0    0   1     0     0          0   0                      0         0   \n",
       "\n",
       "                                                                        \\\n",
       "  DynamoDB Elasticsearch Firebase IBM DB2 MariaDB Microsoft SQL Server   \n",
       "0        0             0        0       0       0                    0   \n",
       "1        0             0        0       0       0                    0   \n",
       "2        0             0        0       0       0                    0   \n",
       "3        0             0        0       0       0                    0   \n",
       "4        0             1        0       0       0                    0   \n",
       "\n",
       "                                               PlatformHaveWorkedWith  \\\n",
       "  MongoDB MySQL Oracle PostgreSQL Redis SQLite                    AWS   \n",
       "0       0     0      0          1     0      1                      0   \n",
       "1       0     0      0          1     0      0                      0   \n",
       "2       0     0      0          0     0      1                      0   \n",
       "3       0     0      0          0     0      0                      0   \n",
       "4       0     0      0          1     1      0                      0   \n",
       "\n",
       "                                                                 \\\n",
       "  DigitalOcean Google Cloud Platform Heroku IBM Cloud or Watson   \n",
       "0            0                     0      0                   0   \n",
       "1            0                     0      0                   0   \n",
       "2            0                     0      1                   0   \n",
       "3            0                     0      0                   0   \n",
       "4            0                     0      0                   0   \n",
       "\n",
       "                                              WebframeHaveWorkedWith  \\\n",
       "  Microsoft Azure Oracle Cloud Infrastructure                ASP.NET   \n",
       "0               0                           0                      0   \n",
       "1               0                           0                      0   \n",
       "2               0                           0                      0   \n",
       "3               0                           0                      0   \n",
       "4               0                           0                      0   \n",
       "\n",
       "                                                                               \\\n",
       "  ASP.NET Core  Angular Angular.js Django Drupal Express FastAPI Flask Gatsby   \n",
       "0             0       0          0      0      0       0       0     0      0   \n",
       "1             0       1          0      0      0       0       0     1      0   \n",
       "2             0       0          0      0      0       0       0     1      0   \n",
       "3             0       1          0      0      0       0       0     0      0   \n",
       "4             0       0          0      0      0       0       0     1      0   \n",
       "\n",
       "                                                                      \\\n",
       "  Laravel React.js Ruby on Rails Spring Svelte Symfony Vue.js jQuery   \n",
       "0       1        0             0      0      0       1      0      0   \n",
       "1       0        0             0      0      0       0      1      0   \n",
       "2       0        0             0      0      0       0      0      0   \n",
       "3       0        0             0      0      0       0      0      1   \n",
       "4       0        0             0      0      0       0      0      0   \n",
       "\n",
       "  MiscTechHaveWorkedWith                                                     \\\n",
       "      .NET Core / .NET 5 .NET Framework Apache Spark Cordova Flutter Hadoop   \n",
       "0                      0              0            0       0       0      0   \n",
       "1                      0              0            0       1       0      0   \n",
       "2                      0              0            0       0       0      0   \n",
       "3                      0              0            0       0       0      0   \n",
       "4                      0              0            1       0       0      1   \n",
       "\n",
       "                                                               \\\n",
       "  Keras NumPy Pandas Qt React Native TensorFlow Torch/PyTorch   \n",
       "0     0     0      0  0            0          0             0   \n",
       "1     0     0      0  0            0          0             0   \n",
       "2     0     1      1  0            0          1             1   \n",
       "3     0     0      0  0            0          0             0   \n",
       "4     0     1      1  0            0          0             0   \n",
       "\n",
       "  ToolsTechHaveWorkedWith                                                     \\\n",
       "                  Ansible Chef Deno Docker Flow Git Kubernetes Pulumi Puppet   \n",
       "0                       0    0    0      0    0   0          0      0      0   \n",
       "1                       0    0    0      1    0   1          0      0      0   \n",
       "2                       0    0    0      0    0   0          0      0      0   \n",
       "3                       0    0    0      0    0   0          0      0      0   \n",
       "4                       0    0    0      1    0   1          1      0      0   \n",
       "\n",
       "                                                NEWCollabToolsHaveWorkedWith  \\\n",
       "  Terraform Unity 3D Unreal Engine Xamarin Yarn               Android Studio   \n",
       "0         0        0             0       0    0                            0   \n",
       "1         0        0             0       0    1                            1   \n",
       "2         0        0             0       0    0                            0   \n",
       "3         0        0             0       0    0                            0   \n",
       "4         0        0             0       0    1                            0   \n",
       "\n",
       "                                                                         \\\n",
       "  Atom Eclipse Emacs IPython/Jupyter IntelliJ Neovim NetBeans Notepad++   \n",
       "0    0       0     0               0        0      0        0         0   \n",
       "1    0       0     0               0        1      0        0         1   \n",
       "2    0       0     0               1        0      0        0         0   \n",
       "3    0       0     0               0        0      0        0         0   \n",
       "4    1       0     0               1        0      0        0         1   \n",
       "\n",
       "                                                                     \\\n",
       "  PHPStorm PyCharm RStudio Rider RubyMine Sublime Text TextMate Vim   \n",
       "0        1       0       0     0        0            0        0   0   \n",
       "1        0       1       0     0        0            0        0   0   \n",
       "2        0       1       1     0        0            1        0   0   \n",
       "3        0       0       0     0        0            0        0   0   \n",
       "4        0       1       0     0        0            0        0   1   \n",
       "\n",
       "                                                   \n",
       "  Visual Studio Visual Studio Code Webstorm Xcode  \n",
       "0             0                  0        0     1  \n",
       "1             0                  0        0     0  \n",
       "2             0                  1        0     0  \n",
       "3             0                  0        0     0  \n",
       "4             0                  0        0     0  "
      ]
     },
     "execution_count": 9,
     "metadata": {},
     "output_type": "execute_result"
    }
   ],
   "source": [
    "# concatenate encoded dfs into a single df\n",
    "data = pd.concat(encoded_dfs, axis=1)\n",
    "data.head(5)"
   ]
  },
  {
   "cell_type": "code",
   "execution_count": 10,
   "metadata": {},
   "outputs": [
    {
     "data": {
      "image/png": "[encoded data removed]",
      "text/plain": [
       "<Figure size 1200x600 with 1 Axes>"
      ]
     },
     "metadata": {},
     "output_type": "display_data"
    }
   ],
   "source": [
    "#jobs' frequencies\n",
    "jobs_freq = data['DevType'].copy().sum().sort_values( ascending=False).reset_index()\n",
    "job_titles = jobs_freq['index']\n",
    "frequencies = jobs_freq[0]\n",
    "\n",
    "\n",
    "plt.figure(figsize=(12, 6))\n",
    "plt.bar(job_titles, frequencies, color='steelblue')\n",
    "plt.xticks(rotation=90)\n",
    "plt.xlabel('Job Title')\n",
    "plt.ylabel('Frequency')\n",
    "plt.title('Jobs\\' Frequencies')\n",
    "plt.show()\n"
   ]
  },
  {
   "cell_type": "code",
   "execution_count": 16,
   "metadata": {},
   "outputs": [],
   "source": [
    "# frequency of each technical skill/ used technology \n",
    "skills_freq = data.copy().drop('DevType', axis=1).sum().reset_index()\n",
    "skills_freq.columns = ['group', 'skill', 'freq']\n",
    "#skills_freq.sort_values('freq', ascending=False)"
   ]
  },
  {
   "cell_type": "code",
   "execution_count": 21,
   "metadata": {},
   "outputs": [
    {
     "data": {
      "application/vnd.plotly.v1+json": {
       "config": {
        "plotlyServerURL": "https://plot.ly"
       },
       "data": [
        {
         "branchvalues": "total",
         "customdata": [
          [
           15310
          ],
          [
           16620
          ],
          [
           536
          ],
          [
           9918
          ],
          [
           11404
          ],
          [
           29138
          ],
          [
           18141
          ],
          [
           14471
          ],
          [
           7242
          ],
          [
           5607
          ],
          [
           2833
          ],
          [
           4632
          ],
          [
           10564
          ],
          [
           22385
          ],
          [
           17329
          ],
          [
           22984
          ],
          [
           20057
          ],
          [
           437
          ],
          [
           1873
          ],
          [
           982
          ],
          [
           1552
          ],
          [
           3491
          ],
          [
           1106
          ],
          [
           466
          ],
          [
           4965
          ],
          [
           1731
          ],
          [
           1027
          ],
          [
           9495
          ],
          [
           9446
          ],
          [
           35644
          ],
          [
           1508
          ],
          [
           5137
          ],
          [
           12955
          ],
          [
           9331
          ],
          [
           1438
          ],
          [
           4327
          ],
          [
           651
          ],
          [
           15010
          ],
          [
           804
          ],
          [
           2447
          ],
          [
           11373
          ],
          [
           10174
          ],
          [
           929
          ],
          [
           6586
          ],
          [
           2501
          ],
          [
           68171
          ],
          [
           7879
          ],
          [
           16687
          ],
          [
           2479
          ],
          [
           46259
          ],
          [
           2155
          ],
          [
           1749
          ],
          [
           12897
          ],
          [
           1373
          ],
          [
           1438
          ],
          [
           10310
          ],
          [
           23467
          ],
          [
           29162
          ],
          [
           53587
          ],
          [
           1068
          ],
          [
           4930
          ],
          [
           6866
          ],
          [
           12115
          ],
          [
           1096
          ],
          [
           6377
          ],
          [
           12088
          ],
          [
           3846
          ],
          [
           16540
          ],
          [
           18896
          ],
          [
           19479
          ],
          [
           35289
          ],
          [
           4071
          ],
          [
           5839
          ],
          [
           27975
          ],
          [
           24262
          ],
          [
           16445
          ],
          [
           2310
          ],
          [
           8868
          ],
          [
           1014
          ],
          [
           18130
          ],
          [
           6096
          ],
          [
           13664
          ],
          [
           2028
          ],
          [
           28424
          ],
          [
           8871
          ],
          [
           368
          ],
          [
           1313
          ],
          [
           15755
          ],
          [
           39792
          ],
          [
           4812
          ],
          [
           4185
          ],
          [
           3200
          ],
          [
           7051
          ],
          [
           25296
          ],
          [
           14552
          ],
          [
           3255
          ],
          [
           5569
          ],
          [
           4438
          ],
          [
           1219
          ],
          [
           5799
          ],
          [
           38835
          ],
          [
           22634
          ],
          [
           2148
          ],
          [
           9177
          ],
          [
           16714
          ],
          [
           1735
          ],
          [
           4204
          ],
          [
           2427
          ],
          [
           8034
          ],
          [
           5442
          ],
          [
           678
          ],
          [
           4808
          ],
          [
           24909
          ],
          [
           7206
          ],
          [
           2339
          ],
          [
           3847
          ],
          [
           19752
          ],
          [
           26970
          ],
          [
           58026
          ],
          [
           11954
          ],
          [
           6564
          ],
          [
           2844
          ],
          [
           9040
          ],
          [
           12937
          ],
          [
           21693
          ],
          [
           20936.479200789552
          ],
          [
           28957.47648228489
          ],
          [
           11437.568995399994
          ],
          [
           25321.11167653491
          ],
          [
           19054.112411640504
          ],
          [
           40549.566439805254
          ],
          [
           13931.995048379958
          ]
         ],
         "domain": {
          "x": [
           0,
           1
          ],
          "y": [
           0,
           1
          ]
         },
         "hovertemplate": "labels=%{label}<br>freq_sum=%{value}<br>parent=%{parent}<br>id=%{id}<br>freq=%{color}<extra></extra>",
         "ids": [
          "MiscTechHaveWorkedWith/.NET Core / .NET 5",
          "MiscTechHaveWorkedWith/.NET Framework",
          "LanguageHaveWorkedWith/APL",
          "WebframeHaveWorkedWith/ASP.NET",
          "WebframeHaveWorkedWith/ASP.NET Core ",
          "PlatformHaveWorkedWith/AWS",
          "NEWCollabToolsHaveWorkedWith/Android Studio",
          "WebframeHaveWorkedWith/Angular",
          "WebframeHaveWorkedWith/Angular.js",
          "ToolsTechHaveWorkedWith/Ansible",
          "MiscTechHaveWorkedWith/Apache Spark",
          "LanguageHaveWorkedWith/Assembly",
          "NEWCollabToolsHaveWorkedWith/Atom",
          "LanguageHaveWorkedWith/Bash/Shell",
          "LanguageHaveWorkedWith/C",
          "LanguageHaveWorkedWith/C#",
          "LanguageHaveWorkedWith/C++",
          "LanguageHaveWorkedWith/COBOL",
          "DatabaseHaveWorkedWith/Cassandra",
          "ToolsTechHaveWorkedWith/Chef",
          "LanguageHaveWorkedWith/Clojure",
          "MiscTechHaveWorkedWith/Cordova",
          "DatabaseHaveWorkedWith/Couchbase",
          "LanguageHaveWorkedWith/Crystal",
          "LanguageHaveWorkedWith/Dart",
          "LanguageHaveWorkedWith/Delphi",
          "ToolsTechHaveWorkedWith/Deno",
          "PlatformHaveWorkedWith/DigitalOcean",
          "WebframeHaveWorkedWith/Django",
          "ToolsTechHaveWorkedWith/Docker",
          "WebframeHaveWorkedWith/Drupal",
          "DatabaseHaveWorkedWith/DynamoDB",
          "NEWCollabToolsHaveWorkedWith/Eclipse",
          "DatabaseHaveWorkedWith/Elasticsearch",
          "LanguageHaveWorkedWith/Elixir",
          "NEWCollabToolsHaveWorkedWith/Emacs",
          "LanguageHaveWorkedWith/Erlang",
          "WebframeHaveWorkedWith/Express",
          "LanguageHaveWorkedWith/F#",
          "WebframeHaveWorkedWith/FastAPI",
          "DatabaseHaveWorkedWith/Firebase",
          "WebframeHaveWorkedWith/Flask",
          "ToolsTechHaveWorkedWith/Flow",
          "MiscTechHaveWorkedWith/Flutter",
          "WebframeHaveWorkedWith/Gatsby",
          "ToolsTechHaveWorkedWith/Git",
          "LanguageHaveWorkedWith/Go",
          "PlatformHaveWorkedWith/Google Cloud Platform",
          "LanguageHaveWorkedWith/Groovy",
          "LanguageHaveWorkedWith/HTML/CSS",
          "MiscTechHaveWorkedWith/Hadoop",
          "LanguageHaveWorkedWith/Haskell",
          "PlatformHaveWorkedWith/Heroku",
          "PlatformHaveWorkedWith/IBM Cloud or Watson",
          "DatabaseHaveWorkedWith/IBM DB2",
          "NEWCollabToolsHaveWorkedWith/IPython/Jupyter",
          "NEWCollabToolsHaveWorkedWith/IntelliJ",
          "LanguageHaveWorkedWith/Java",
          "LanguageHaveWorkedWith/JavaScript",
          "LanguageHaveWorkedWith/Julia",
          "MiscTechHaveWorkedWith/Keras",
          "LanguageHaveWorkedWith/Kotlin",
          "ToolsTechHaveWorkedWith/Kubernetes",
          "LanguageHaveWorkedWith/LISP",
          "WebframeHaveWorkedWith/Laravel",
          "DatabaseHaveWorkedWith/MariaDB",
          "LanguageHaveWorkedWith/Matlab",
          "PlatformHaveWorkedWith/Microsoft Azure",
          "DatabaseHaveWorkedWith/Microsoft SQL Server",
          "DatabaseHaveWorkedWith/MongoDB",
          "DatabaseHaveWorkedWith/MySQL",
          "NEWCollabToolsHaveWorkedWith/Neovim",
          "NEWCollabToolsHaveWorkedWith/NetBeans",
          "LanguageHaveWorkedWith/Node.js",
          "NEWCollabToolsHaveWorkedWith/Notepad++",
          "MiscTechHaveWorkedWith/NumPy",
          "LanguageHaveWorkedWith/Objective-C",
          "DatabaseHaveWorkedWith/Oracle",
          "PlatformHaveWorkedWith/Oracle Cloud Infrastructure",
          "LanguageHaveWorkedWith/PHP",
          "NEWCollabToolsHaveWorkedWith/PHPStorm",
          "MiscTechHaveWorkedWith/Pandas",
          "LanguageHaveWorkedWith/Perl",
          "DatabaseHaveWorkedWith/PostgreSQL",
          "LanguageHaveWorkedWith/PowerShell",
          "ToolsTechHaveWorkedWith/Pulumi",
          "ToolsTechHaveWorkedWith/Puppet",
          "NEWCollabToolsHaveWorkedWith/PyCharm",
          "LanguageHaveWorkedWith/Python",
          "MiscTechHaveWorkedWith/Qt",
          "LanguageHaveWorkedWith/R",
          "NEWCollabToolsHaveWorkedWith/RStudio",
          "MiscTechHaveWorkedWith/React Native",
          "WebframeHaveWorkedWith/React.js",
          "DatabaseHaveWorkedWith/Redis",
          "NEWCollabToolsHaveWorkedWith/Rider",
          "LanguageHaveWorkedWith/Ruby",
          "WebframeHaveWorkedWith/Ruby on Rails",
          "NEWCollabToolsHaveWorkedWith/RubyMine",
          "LanguageHaveWorkedWith/Rust",
          "LanguageHaveWorkedWith/SQL",
          "DatabaseHaveWorkedWith/SQLite",
          "LanguageHaveWorkedWith/Scala",
          "WebframeHaveWorkedWith/Spring",
          "NEWCollabToolsHaveWorkedWith/Sublime Text",
          "WebframeHaveWorkedWith/Svelte",
          "LanguageHaveWorkedWith/Swift",
          "WebframeHaveWorkedWith/Symfony",
          "MiscTechHaveWorkedWith/TensorFlow",
          "ToolsTechHaveWorkedWith/Terraform",
          "NEWCollabToolsHaveWorkedWith/TextMate",
          "MiscTechHaveWorkedWith/Torch/PyTorch",
          "LanguageHaveWorkedWith/TypeScript",
          "ToolsTechHaveWorkedWith/Unity 3D",
          "ToolsTechHaveWorkedWith/Unreal Engine",
          "LanguageHaveWorkedWith/VBA",
          "NEWCollabToolsHaveWorkedWith/Vim",
          "NEWCollabToolsHaveWorkedWith/Visual Studio",
          "NEWCollabToolsHaveWorkedWith/Visual Studio Code",
          "WebframeHaveWorkedWith/Vue.js",
          "NEWCollabToolsHaveWorkedWith/Webstorm",
          "ToolsTechHaveWorkedWith/Xamarin",
          "NEWCollabToolsHaveWorkedWith/Xcode",
          "ToolsTechHaveWorkedWith/Yarn",
          "WebframeHaveWorkedWith/jQuery",
          "DatabaseHaveWorkedWith",
          "LanguageHaveWorkedWith",
          "MiscTechHaveWorkedWith",
          "NEWCollabToolsHaveWorkedWith",
          "PlatformHaveWorkedWith",
          "ToolsTechHaveWorkedWith",
          "WebframeHaveWorkedWith"
         ],
         "labels": [
          ".NET Core / .NET 5",
          ".NET Framework",
          "APL",
          "ASP.NET",
          "ASP.NET Core ",
          "AWS",
          "Android Studio",
          "Angular",
          "Angular.js",
          "Ansible",
          "Apache Spark",
          "Assembly",
          "Atom",
          "Bash/Shell",
          "C",
          "C#",
          "C++",
          "COBOL",
          "Cassandra",
          "Chef",
          "Clojure",
          "Cordova",
          "Couchbase",
          "Crystal",
          "Dart",
          "Delphi",
          "Deno",
          "DigitalOcean",
          "Django",
          "Docker",
          "Drupal",
          "DynamoDB",
          "Eclipse",
          "Elasticsearch",
          "Elixir",
          "Emacs",
          "Erlang",
          "Express",
          "F#",
          "FastAPI",
          "Firebase",
          "Flask",
          "Flow",
          "Flutter",
          "Gatsby",
          "Git",
          "Go",
          "Google Cloud Platform",
          "Groovy",
          "HTML/CSS",
          "Hadoop",
          "Haskell",
          "Heroku",
          "IBM Cloud or Watson",
          "IBM DB2",
          "IPython/Jupyter",
          "IntelliJ",
          "Java",
          "JavaScript",
          "Julia",
          "Keras",
          "Kotlin",
          "Kubernetes",
          "LISP",
          "Laravel",
          "MariaDB",
          "Matlab",
          "Microsoft Azure",
          "Microsoft SQL Server",
          "MongoDB",
          "MySQL",
          "Neovim",
          "NetBeans",
          "Node.js",
          "Notepad++",
          "NumPy",
          "Objective-C",
          "Oracle",
          "Oracle Cloud Infrastructure",
          "PHP",
          "PHPStorm",
          "Pandas",
          "Perl",
          "PostgreSQL",
          "PowerShell",
          "Pulumi",
          "Puppet",
          "PyCharm",
          "Python",
          "Qt",
          "R",
          "RStudio",
          "React Native",
          "React.js",
          "Redis",
          "Rider",
          "Ruby",
          "Ruby on Rails",
          "RubyMine",
          "Rust",
          "SQL",
          "SQLite",
          "Scala",
          "Spring",
          "Sublime Text",
          "Svelte",
          "Swift",
          "Symfony",
          "TensorFlow",
          "Terraform",
          "TextMate",
          "Torch/PyTorch",
          "TypeScript",
          "Unity 3D",
          "Unreal Engine",
          "VBA",
          "Vim",
          "Visual Studio",
          "Visual Studio Code",
          "Vue.js",
          "Webstorm",
          "Xamarin",
          "Xcode",
          "Yarn",
          "jQuery",
          "DatabaseHaveWorkedWith",
          "LanguageHaveWorkedWith",
          "MiscTechHaveWorkedWith",
          "NEWCollabToolsHaveWorkedWith",
          "PlatformHaveWorkedWith",
          "ToolsTechHaveWorkedWith",
          "WebframeHaveWorkedWith"
         ],
         "marker": {
          "coloraxis": "coloraxis",
          "colors": [
           15310,
           16620,
           536,
           9918,
           11404,
           29138,
           18141,
           14471,
           7242,
           5607,
           2833,
           4632,
           10564,
           22385,
           17329,
           22984,
           20057,
           437,
           1873,
           982,
           1552,
           3491,
           1106,
           466,
           4965,
           1731,
           1027,
           9495,
           9446,
           35644,
           1508,
           5137,
           12955,
           9331,
           1438,
           4327,
           651,
           15010,
           804,
           2447,
           11373,
           10174,
           929,
           6586,
           2501,
           68171,
           7879,
           16687,
           2479,
           46259,
           2155,
           1749,
           12897,
           1373,
           1438,
           10310,
           23467,
           29162,
           53587,
           1068,
           4930,
           6866,
           12115,
           1096,
           6377,
           12088,
           3846,
           16540,
           18896,
           19479,
           35289,
           4071,
           5839,
           27975,
           24262,
           16445,
           2310,
           8868,
           1014,
           18130,
           6096,
           13664,
           2028,
           28424,
           8871,
           368,
           1313,
           15755,
           39792,
           4812,
           4185,
           3200,
           7051,
           25296,
           14552,
           3255,
           5569,
           4438,
           1219,
           5799,
           38835,
           22634,
           2148,
           9177,
           16714,
           1735,
           4204,
           2427,
           8034,
           5442,
           678,
           4808,
           24909,
           7206,
           2339,
           3847,
           19752,
           26970,
           58026,
           11954,
           6564,
           2844,
           9040,
           12937,
           21693,
           20936.479200789552,
           28957.47648228489,
           11437.568995399994,
           25321.11167653491,
           19054.112411640504,
           40549.566439805254,
           13931.995048379958
          ]
         },
         "name": "",
         "parents": [
          "MiscTechHaveWorkedWith",
          "MiscTechHaveWorkedWith",
          "LanguageHaveWorkedWith",
          "WebframeHaveWorkedWith",
          "WebframeHaveWorkedWith",
          "PlatformHaveWorkedWith",
          "NEWCollabToolsHaveWorkedWith",
          "WebframeHaveWorkedWith",
          "WebframeHaveWorkedWith",
          "ToolsTechHaveWorkedWith",
          "MiscTechHaveWorkedWith",
          "LanguageHaveWorkedWith",
          "NEWCollabToolsHaveWorkedWith",
          "LanguageHaveWorkedWith",
          "LanguageHaveWorkedWith",
          "LanguageHaveWorkedWith",
          "LanguageHaveWorkedWith",
          "LanguageHaveWorkedWith",
          "DatabaseHaveWorkedWith",
          "ToolsTechHaveWorkedWith",
          "LanguageHaveWorkedWith",
          "MiscTechHaveWorkedWith",
          "DatabaseHaveWorkedWith",
          "LanguageHaveWorkedWith",
          "LanguageHaveWorkedWith",
          "LanguageHaveWorkedWith",
          "ToolsTechHaveWorkedWith",
          "PlatformHaveWorkedWith",
          "WebframeHaveWorkedWith",
          "ToolsTechHaveWorkedWith",
          "WebframeHaveWorkedWith",
          "DatabaseHaveWorkedWith",
          "NEWCollabToolsHaveWorkedWith",
          "DatabaseHaveWorkedWith",
          "LanguageHaveWorkedWith",
          "NEWCollabToolsHaveWorkedWith",
          "LanguageHaveWorkedWith",
          "WebframeHaveWorkedWith",
          "LanguageHaveWorkedWith",
          "WebframeHaveWorkedWith",
          "DatabaseHaveWorkedWith",
          "WebframeHaveWorkedWith",
          "ToolsTechHaveWorkedWith",
          "MiscTechHaveWorkedWith",
          "WebframeHaveWorkedWith",
          "ToolsTechHaveWorkedWith",
          "LanguageHaveWorkedWith",
          "PlatformHaveWorkedWith",
          "LanguageHaveWorkedWith",
          "LanguageHaveWorkedWith",
          "MiscTechHaveWorkedWith",
          "LanguageHaveWorkedWith",
          "PlatformHaveWorkedWith",
          "PlatformHaveWorkedWith",
          "DatabaseHaveWorkedWith",
          "NEWCollabToolsHaveWorkedWith",
          "NEWCollabToolsHaveWorkedWith",
          "LanguageHaveWorkedWith",
          "LanguageHaveWorkedWith",
          "LanguageHaveWorkedWith",
          "MiscTechHaveWorkedWith",
          "LanguageHaveWorkedWith",
          "ToolsTechHaveWorkedWith",
          "LanguageHaveWorkedWith",
          "WebframeHaveWorkedWith",
          "DatabaseHaveWorkedWith",
          "LanguageHaveWorkedWith",
          "PlatformHaveWorkedWith",
          "DatabaseHaveWorkedWith",
          "DatabaseHaveWorkedWith",
          "DatabaseHaveWorkedWith",
          "NEWCollabToolsHaveWorkedWith",
          "NEWCollabToolsHaveWorkedWith",
          "LanguageHaveWorkedWith",
          "NEWCollabToolsHaveWorkedWith",
          "MiscTechHaveWorkedWith",
          "LanguageHaveWorkedWith",
          "DatabaseHaveWorkedWith",
          "PlatformHaveWorkedWith",
          "LanguageHaveWorkedWith",
          "NEWCollabToolsHaveWorkedWith",
          "MiscTechHaveWorkedWith",
          "LanguageHaveWorkedWith",
          "DatabaseHaveWorkedWith",
          "LanguageHaveWorkedWith",
          "ToolsTechHaveWorkedWith",
          "ToolsTechHaveWorkedWith",
          "NEWCollabToolsHaveWorkedWith",
          "LanguageHaveWorkedWith",
          "MiscTechHaveWorkedWith",
          "LanguageHaveWorkedWith",
          "NEWCollabToolsHaveWorkedWith",
          "MiscTechHaveWorkedWith",
          "WebframeHaveWorkedWith",
          "DatabaseHaveWorkedWith",
          "NEWCollabToolsHaveWorkedWith",
          "LanguageHaveWorkedWith",
          "WebframeHaveWorkedWith",
          "NEWCollabToolsHaveWorkedWith",
          "LanguageHaveWorkedWith",
          "LanguageHaveWorkedWith",
          "DatabaseHaveWorkedWith",
          "LanguageHaveWorkedWith",
          "WebframeHaveWorkedWith",
          "NEWCollabToolsHaveWorkedWith",
          "WebframeHaveWorkedWith",
          "LanguageHaveWorkedWith",
          "WebframeHaveWorkedWith",
          "MiscTechHaveWorkedWith",
          "ToolsTechHaveWorkedWith",
          "NEWCollabToolsHaveWorkedWith",
          "MiscTechHaveWorkedWith",
          "LanguageHaveWorkedWith",
          "ToolsTechHaveWorkedWith",
          "ToolsTechHaveWorkedWith",
          "LanguageHaveWorkedWith",
          "NEWCollabToolsHaveWorkedWith",
          "NEWCollabToolsHaveWorkedWith",
          "NEWCollabToolsHaveWorkedWith",
          "WebframeHaveWorkedWith",
          "NEWCollabToolsHaveWorkedWith",
          "ToolsTechHaveWorkedWith",
          "NEWCollabToolsHaveWorkedWith",
          "ToolsTechHaveWorkedWith",
          "WebframeHaveWorkedWith",
          "",
          "",
          "",
          "",
          "",
          "",
          ""
         ],
         "type": "treemap",
         "values": [
          15310,
          16620,
          536,
          9918,
          11404,
          29138,
          18141,
          14471,
          7242,
          5607,
          2833,
          4632,
          10564,
          22385,
          17329,
          22984,
          20057,
          437,
          1873,
          982,
          1552,
          3491,
          1106,
          466,
          4965,
          1731,
          1027,
          9495,
          9446,
          35644,
          1508,
          5137,
          12955,
          9331,
          1438,
          4327,
          651,
          15010,
          804,
          2447,
          11373,
          10174,
          929,
          6586,
          2501,
          68171,
          7879,
          16687,
          2479,
          46259,
          2155,
          1749,
          12897,
          1373,
          1438,
          10310,
          23467,
          29162,
          53587,
          1068,
          4930,
          6866,
          12115,
          1096,
          6377,
          12088,
          3846,
          16540,
          18896,
          19479,
          35289,
          4071,
          5839,
          27975,
          24262,
          16445,
          2310,
          8868,
          1014,
          18130,
          6096,
          13664,
          2028,
          28424,
          8871,
          368,
          1313,
          15755,
          39792,
          4812,
          4185,
          3200,
          7051,
          25296,
          14552,
          3255,
          5569,
          4438,
          1219,
          5799,
          38835,
          22634,
          2148,
          9177,
          16714,
          1735,
          4204,
          2427,
          8034,
          5442,
          678,
          4808,
          24909,
          7206,
          2339,
          3847,
          19752,
          26970,
          58026,
          11954,
          6564,
          2844,
          9040,
          12937,
          21693,
          190488,
          442560,
          106739,
          281205,
          87144,
          156924,
          167218
         ]
        }
       ],
       "layout": {
        "coloraxis": {
         "colorbar": {
          "title": {
           "text": "freq"
          }
         },
         "colorscale": [
          [
           0,
           "rgb(253, 253, 204)"
          ],
          [
           0.09090909090909091,
           "rgb(206, 236, 179)"
          ],
          [
           0.18181818181818182,
           "rgb(156, 219, 165)"
          ],
          [
           0.2727272727272727,
           "rgb(111, 201, 163)"
          ],
          [
           0.36363636363636365,
           "rgb(86, 177, 163)"
          ],
          [
           0.45454545454545453,
           "rgb(76, 153, 160)"
          ],
          [
           0.5454545454545454,
           "rgb(68, 130, 155)"
          ],
          [
           0.6363636363636364,
           "rgb(62, 108, 150)"
          ],
          [
           0.7272727272727273,
           "rgb(62, 82, 143)"
          ],
          [
           0.8181818181818182,
           "rgb(64, 60, 115)"
          ],
          [
           0.9090909090909091,
           "rgb(54, 43, 77)"
          ],
          [
           1,
           "rgb(39, 26, 44)"
          ]
         ]
        },
        "height": 600,
        "legend": {
         "tracegroupgap": 0
        },
        "margin": {
         "t": 60
        },
        "template": {
         "data": {
          "bar": [
           {
            "error_x": {
             "color": "#2a3f5f"
            },
            "error_y": {
             "color": "#2a3f5f"
            },
            "marker": {
             "line": {
              "color": "#E5ECF6",
              "width": 0.5
             },
             "pattern": {
              "fillmode": "overlay",
              "size": 10,
              "solidity": 0.2
             }
            },
            "type": "bar"
           }
          ],
          "barpolar": [
           {
            "marker": {
             "line": {
              "color": "#E5ECF6",
              "width": 0.5
             },
             "pattern": {
              "fillmode": "overlay",
              "size": 10,
              "solidity": 0.2
             }
            },
            "type": "barpolar"
           }
          ],
          "carpet": [
           {
            "aaxis": {
             "endlinecolor": "#2a3f5f",
             "gridcolor": "white",
             "linecolor": "white",
             "minorgridcolor": "white",
             "startlinecolor": "#2a3f5f"
            },
            "baxis": {
             "endlinecolor": "#2a3f5f",
             "gridcolor": "white",
             "linecolor": "white",
             "minorgridcolor": "white",
             "startlinecolor": "#2a3f5f"
            },
            "type": "carpet"
           }
          ],
          "choropleth": [
           {
            "colorbar": {
             "outlinewidth": 0,
             "ticks": ""
            },
            "type": "choropleth"
           }
          ],
          "contour": [
           {
            "colorbar": {
             "outlinewidth": 0,
             "ticks": ""
            },
            "colorscale": [
             [
              0,
              "#0d0887"
             ],
             [
              0.1111111111111111,
              "#46039f"
             ],
             [
              0.2222222222222222,
              "#7201a8"
             ],
             [
              0.3333333333333333,
              "#9c179e"
             ],
             [
              0.4444444444444444,
              "#bd3786"
             ],
             [
              0.5555555555555556,
              "#d8576b"
             ],
             [
              0.6666666666666666,
              "#ed7953"
             ],
             [
              0.7777777777777778,
              "#fb9f3a"
             ],
             [
              0.8888888888888888,
              "#fdca26"
             ],
             [
              1,
              "#f0f921"
             ]
            ],
            "type": "contour"
           }
          ],
          "contourcarpet": [
           {
            "colorbar": {
             "outlinewidth": 0,
             "ticks": ""
            },
            "type": "contourcarpet"
           }
          ],
          "heatmap": [
           {
            "colorbar": {
             "outlinewidth": 0,
             "ticks": ""
            },
            "colorscale": [
             [
              0,
              "#0d0887"
             ],
             [
              0.1111111111111111,
              "#46039f"
             ],
             [
              0.2222222222222222,
              "#7201a8"
             ],
             [
              0.3333333333333333,
              "#9c179e"
             ],
             [
              0.4444444444444444,
              "#bd3786"
             ],
             [
              0.5555555555555556,
              "#d8576b"
             ],
             [
              0.6666666666666666,
              "#ed7953"
             ],
             [
              0.7777777777777778,
              "#fb9f3a"
             ],
             [
              0.8888888888888888,
              "#fdca26"
             ],
             [
              1,
              "#f0f921"
             ]
            ],
            "type": "heatmap"
           }
          ],
          "heatmapgl": [
           {
            "colorbar": {
             "outlinewidth": 0,
             "ticks": ""
            },
            "colorscale": [
             [
              0,
              "#0d0887"
             ],
             [
              0.1111111111111111,
              "#46039f"
             ],
             [
              0.2222222222222222,
              "#7201a8"
             ],
             [
              0.3333333333333333,
              "#9c179e"
             ],
             [
              0.4444444444444444,
              "#bd3786"
             ],
             [
              0.5555555555555556,
              "#d8576b"
             ],
             [
              0.6666666666666666,
              "#ed7953"
             ],
             [
              0.7777777777777778,
              "#fb9f3a"
             ],
             [
              0.8888888888888888,
              "#fdca26"
             ],
             [
              1,
              "#f0f921"
             ]
            ],
            "type": "heatmapgl"
           }
          ],
          "histogram": [
           {
            "marker": {
             "pattern": {
              "fillmode": "overlay",
              "size": 10,
              "solidity": 0.2
             }
            },
            "type": "histogram"
           }
          ],
          "histogram2d": [
           {
            "colorbar": {
             "outlinewidth": 0,
             "ticks": ""
            },
            "colorscale": [
             [
              0,
              "#0d0887"
             ],
             [
              0.1111111111111111,
              "#46039f"
             ],
             [
              0.2222222222222222,
              "#7201a8"
             ],
             [
              0.3333333333333333,
              "#9c179e"
             ],
             [
              0.4444444444444444,
              "#bd3786"
             ],
             [
              0.5555555555555556,
              "#d8576b"
             ],
             [
              0.6666666666666666,
              "#ed7953"
             ],
             [
              0.7777777777777778,
              "#fb9f3a"
             ],
             [
              0.8888888888888888,
              "#fdca26"
             ],
             [
              1,
              "#f0f921"
             ]
            ],
            "type": "histogram2d"
           }
          ],
          "histogram2dcontour": [
           {
            "colorbar": {
             "outlinewidth": 0,
             "ticks": ""
            },
            "colorscale": [
             [
              0,
              "#0d0887"
             ],
             [
              0.1111111111111111,
              "#46039f"
             ],
             [
              0.2222222222222222,
              "#7201a8"
             ],
             [
              0.3333333333333333,
              "#9c179e"
             ],
             [
              0.4444444444444444,
              "#bd3786"
             ],
             [
              0.5555555555555556,
              "#d8576b"
             ],
             [
              0.6666666666666666,
              "#ed7953"
             ],
             [
              0.7777777777777778,
              "#fb9f3a"
             ],
             [
              0.8888888888888888,
              "#fdca26"
             ],
             [
              1,
              "#f0f921"
             ]
            ],
            "type": "histogram2dcontour"
           }
          ],
          "mesh3d": [
           {
            "colorbar": {
             "outlinewidth": 0,
             "ticks": ""
            },
            "type": "mesh3d"
           }
          ],
          "parcoords": [
           {
            "line": {
             "colorbar": {
              "outlinewidth": 0,
              "ticks": ""
             }
            },
            "type": "parcoords"
           }
          ],
          "pie": [
           {
            "automargin": true,
            "type": "pie"
           }
          ],
          "scatter": [
           {
            "fillpattern": {
             "fillmode": "overlay",
             "size": 10,
             "solidity": 0.2
            },
            "type": "scatter"
           }
          ],
          "scatter3d": [
           {
            "line": {
             "colorbar": {
              "outlinewidth": 0,
              "ticks": ""
             }
            },
            "marker": {
             "colorbar": {
              "outlinewidth": 0,
              "ticks": ""
             }
            },
            "type": "scatter3d"
           }
          ],
          "scattercarpet": [
           {
            "marker": {
             "colorbar": {
              "outlinewidth": 0,
              "ticks": ""
             }
            },
            "type": "scattercarpet"
           }
          ],
          "scattergeo": [
           {
            "marker": {
             "colorbar": {
              "outlinewidth": 0,
              "ticks": ""
             }
            },
            "type": "scattergeo"
           }
          ],
          "scattergl": [
           {
            "marker": {
             "colorbar": {
              "outlinewidth": 0,
              "ticks": ""
             }
            },
            "type": "scattergl"
           }
          ],
          "scattermapbox": [
           {
            "marker": {
             "colorbar": {
              "outlinewidth": 0,
              "ticks": ""
             }
            },
            "type": "scattermapbox"
           }
          ],
          "scatterpolar": [
           {
            "marker": {
             "colorbar": {
              "outlinewidth": 0,
              "ticks": ""
             }
            },
            "type": "scatterpolar"
           }
          ],
          "scatterpolargl": [
           {
            "marker": {
             "colorbar": {
              "outlinewidth": 0,
              "ticks": ""
             }
            },
            "type": "scatterpolargl"
           }
          ],
          "scatterternary": [
           {
            "marker": {
             "colorbar": {
              "outlinewidth": 0,
              "ticks": ""
             }
            },
            "type": "scatterternary"
           }
          ],
          "surface": [
           {
            "colorbar": {
             "outlinewidth": 0,
             "ticks": ""
            },
            "colorscale": [
             [
              0,
              "#0d0887"
             ],
             [
              0.1111111111111111,
              "#46039f"
             ],
             [
              0.2222222222222222,
              "#7201a8"
             ],
             [
              0.3333333333333333,
              "#9c179e"
             ],
             [
              0.4444444444444444,
              "#bd3786"
             ],
             [
              0.5555555555555556,
              "#d8576b"
             ],
             [
              0.6666666666666666,
              "#ed7953"
             ],
             [
              0.7777777777777778,
              "#fb9f3a"
             ],
             [
              0.8888888888888888,
              "#fdca26"
             ],
             [
              1,
              "#f0f921"
             ]
            ],
            "type": "surface"
           }
          ],
          "table": [
           {
            "cells": {
             "fill": {
              "color": "#EBF0F8"
             },
             "line": {
              "color": "white"
             }
            },
            "header": {
             "fill": {
              "color": "#C8D4E3"
             },
             "line": {
              "color": "white"
             }
            },
            "type": "table"
           }
          ]
         },
         "layout": {
          "annotationdefaults": {
           "arrowcolor": "#2a3f5f",
           "arrowhead": 0,
           "arrowwidth": 1
          },
          "autotypenumbers": "strict",
          "coloraxis": {
           "colorbar": {
            "outlinewidth": 0,
            "ticks": ""
           }
          },
          "colorscale": {
           "diverging": [
            [
             0,
             "#8e0152"
            ],
            [
             0.1,
             "#c51b7d"
            ],
            [
             0.2,
             "#de77ae"
            ],
            [
             0.3,
             "#f1b6da"
            ],
            [
             0.4,
             "#fde0ef"
            ],
            [
             0.5,
             "#f7f7f7"
            ],
            [
             0.6,
             "#e6f5d0"
            ],
            [
             0.7,
             "#b8e186"
            ],
            [
             0.8,
             "#7fbc41"
            ],
            [
             0.9,
             "#4d9221"
            ],
            [
             1,
             "#276419"
            ]
           ],
           "sequential": [
            [
             0,
             "#0d0887"
            ],
            [
             0.1111111111111111,
             "#46039f"
            ],
            [
             0.2222222222222222,
             "#7201a8"
            ],
            [
             0.3333333333333333,
             "#9c179e"
            ],
            [
             0.4444444444444444,
             "#bd3786"
            ],
            [
             0.5555555555555556,
             "#d8576b"
            ],
            [
             0.6666666666666666,
             "#ed7953"
            ],
            [
             0.7777777777777778,
             "#fb9f3a"
            ],
            [
             0.8888888888888888,
             "#fdca26"
            ],
            [
             1,
             "#f0f921"
            ]
           ],
           "sequentialminus": [
            [
             0,
             "#0d0887"
            ],
            [
             0.1111111111111111,
             "#46039f"
            ],
            [
             0.2222222222222222,
             "#7201a8"
            ],
            [
             0.3333333333333333,
             "#9c179e"
            ],
            [
             0.4444444444444444,
             "#bd3786"
            ],
            [
             0.5555555555555556,
             "#d8576b"
            ],
            [
             0.6666666666666666,
             "#ed7953"
            ],
            [
             0.7777777777777778,
             "#fb9f3a"
            ],
            [
             0.8888888888888888,
             "#fdca26"
            ],
            [
             1,
             "#f0f921"
            ]
           ]
          },
          "colorway": [
           "#636efa",
           "#EF553B",
           "#00cc96",
           "#ab63fa",
           "#FFA15A",
           "#19d3f3",
           "#FF6692",
           "#B6E880",
           "#FF97FF",
           "#FECB52"
          ],
          "font": {
           "color": "#2a3f5f"
          },
          "geo": {
           "bgcolor": "white",
           "lakecolor": "white",
           "landcolor": "#E5ECF6",
           "showlakes": true,
           "showland": true,
           "subunitcolor": "white"
          },
          "hoverlabel": {
           "align": "left"
          },
          "hovermode": "closest",
          "mapbox": {
           "style": "light"
          },
          "paper_bgcolor": "white",
          "plot_bgcolor": "#E5ECF6",
          "polar": {
           "angularaxis": {
            "gridcolor": "white",
            "linecolor": "white",
            "ticks": ""
           },
           "bgcolor": "#E5ECF6",
           "radialaxis": {
            "gridcolor": "white",
            "linecolor": "white",
            "ticks": ""
           }
          },
          "scene": {
           "xaxis": {
            "backgroundcolor": "#E5ECF6",
            "gridcolor": "white",
            "gridwidth": 2,
            "linecolor": "white",
            "showbackground": true,
            "ticks": "",
            "zerolinecolor": "white"
           },
           "yaxis": {
            "backgroundcolor": "#E5ECF6",
            "gridcolor": "white",
            "gridwidth": 2,
            "linecolor": "white",
            "showbackground": true,
            "ticks": "",
            "zerolinecolor": "white"
           },
           "zaxis": {
            "backgroundcolor": "#E5ECF6",
            "gridcolor": "white",
            "gridwidth": 2,
            "linecolor": "white",
            "showbackground": true,
            "ticks": "",
            "zerolinecolor": "white"
           }
          },
          "shapedefaults": {
           "line": {
            "color": "#2a3f5f"
           }
          },
          "ternary": {
           "aaxis": {
            "gridcolor": "white",
            "linecolor": "white",
            "ticks": ""
           },
           "baxis": {
            "gridcolor": "white",
            "linecolor": "white",
            "ticks": ""
           },
           "bgcolor": "#E5ECF6",
           "caxis": {
            "gridcolor": "white",
            "linecolor": "white",
            "ticks": ""
           }
          },
          "title": {
           "x": 0.05
          },
          "xaxis": {
           "automargin": true,
           "gridcolor": "white",
           "linecolor": "white",
           "ticks": "",
           "title": {
            "standoff": 15
           },
           "zerolinecolor": "white",
           "zerolinewidth": 2
          },
          "yaxis": {
           "automargin": true,
           "gridcolor": "white",
           "linecolor": "white",
           "ticks": "",
           "title": {
            "standoff": 15
           },
           "zerolinecolor": "white",
           "zerolinewidth": 2
          }
         }
        },
        "width": 1200
       }
      }
     },
     "metadata": {},
     "output_type": "display_data"
    }
   ],
   "source": [
    "fig = px.treemap(skills_freq, \n",
    "                 path=['group', 'skill'], \n",
    "                 color_continuous_scale='deep',\n",
    "                 values='freq',color='freq')\n",
    "\n",
    "fig.update_layout(width=1200, height=600)\n",
    "fig.show()\n",
    "\n",
    "fig.write_html(os.path.join(FIG_DIR, 'treemap_skills_freq.html'))"
   ]
  },
  {
   "cell_type": "markdown",
   "metadata": {},
   "source": [
    "#### Correlation between jobs and Skills"
   ]
  },
  {
   "cell_type": "code",
   "execution_count": 29,
   "metadata": {},
   "outputs": [],
   "source": [
    "sorted_roles = data['DevType'].sum().sort_values().index.tolist()\n",
    "sorted_skills = data.drop('DevType', axis=1).sum().sort_values(ascending=False).droplevel(level=0).index.tolist()"
   ]
  },
  {
   "cell_type": "code",
   "execution_count": 28,
   "metadata": {},
   "outputs": [
    {
     "data": {
      "text/plain": [
       "['Marketing or sales professional',\n",
       " 'Scientist',\n",
       " 'Senior Executive (C-Suite, VP, etc.)',\n",
       " 'Developer, game or graphics',\n",
       " 'Educator',\n",
       " 'Engineer, site reliability',\n",
       " 'Academic researcher',\n",
       " 'Product manager',\n",
       " 'Other (please specify):',\n",
       " 'Developer, QA or test',\n",
       " 'Data or business analyst',\n",
       " 'Engineering manager',\n",
       " 'Engineer, data',\n",
       " 'Student',\n",
       " 'Data scientist or machine learning specialist',\n",
       " 'Developer, embedded applications or devices',\n",
       " 'Designer',\n",
       " 'Database administrator',\n",
       " 'System administrator',\n",
       " 'DevOps specialist',\n",
       " 'Developer, mobile',\n",
       " 'Developer, desktop or enterprise applications',\n",
       " 'Developer, front-end',\n",
       " 'Developer, back-end',\n",
       " 'Developer, full-stack']"
      ]
     },
     "execution_count": 28,
     "metadata": {},
     "output_type": "execute_result"
    }
   ],
   "source": [
    "sorted_roles"
   ]
  }
 ],
 "metadata": {
  "kernelspec": {
   "display_name": "Python 3",
   "language": "python",
   "name": "python3"
  },
  "language_info": {
   "codemirror_mode": {
    "name": "ipython",
    "version": 3
   },
   "file_extension": ".py",
   "mimetype": "text/x-python",
   "name": "python",
   "nbconvert_exporter": "python",
   "pygments_lexer": "ipython3",
   "version": "3.10.4"
  },
  "orig_nbformat": 4
 },
 "nbformat": 4,
 "nbformat_minor": 2
}
